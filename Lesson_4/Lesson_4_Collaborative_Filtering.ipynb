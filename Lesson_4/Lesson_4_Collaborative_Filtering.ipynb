{
  "nbformat": 4,
  "nbformat_minor": 0,
  "metadata": {
    "colab": {
      "name": "Lesson 4 - Collaborative Filtering.ipynb",
      "version": "0.3.2",
      "provenance": [],
      "collapsed_sections": []
    },
    "kernelspec": {
      "name": "python3",
      "display_name": "Python 3"
    },
    "accelerator": "GPU"
  },
  "cells": [
    {
      "metadata": {
        "id": "Dm6C9vI4A7CE",
        "colab_type": "code",
        "colab": {}
      },
      "cell_type": "code",
      "source": [
        "from fastai import *\n",
        "from fastai.collab import *"
      ],
      "execution_count": 0,
      "outputs": []
    },
    {
      "metadata": {
        "id": "K6vRmT7ZBCnn",
        "colab_type": "code",
        "outputId": "8b817775-0f94-4b08-9db4-dc22a0d8af55",
        "colab": {
          "base_uri": "https://localhost:8080/",
          "height": 35
        }
      },
      "cell_type": "code",
      "source": [
        "path = untar_data(URLs.ML_SAMPLE)\n",
        "path.ls()"
      ],
      "execution_count": 18,
      "outputs": [
        {
          "output_type": "execute_result",
          "data": {
            "text/plain": [
              "[PosixPath('/root/.fastai/data/movie_lens_sample/ratings.csv')]"
            ]
          },
          "metadata": {
            "tags": []
          },
          "execution_count": 18
        }
      ]
    },
    {
      "metadata": {
        "id": "yRW8UhyvBebG",
        "colab_type": "code",
        "outputId": "f0ba359e-43b5-434f-823c-affe247facf2",
        "colab": {
          "base_uri": "https://localhost:8080/",
          "height": 106
        }
      },
      "cell_type": "code",
      "source": [
        "help(series2cat)"
      ],
      "execution_count": 19,
      "outputs": [
        {
          "output_type": "stream",
          "text": [
            "Help on function series2cat in module fastai.core:\n",
            "\n",
            "series2cat(df:pandas.core.frame.DataFrame, *col_names)\n",
            "    Categorifies the columns `col_names` in `df`.\n",
            "\n"
          ],
          "name": "stdout"
        }
      ]
    },
    {
      "metadata": {
        "id": "Y3nWgqZPBHu3",
        "colab_type": "code",
        "outputId": "37cbc238-0cdd-4e1a-d389-f04d45e9c451",
        "colab": {
          "base_uri": "https://localhost:8080/",
          "height": 206
        }
      },
      "cell_type": "code",
      "source": [
        "df = pd.read_csv(path/'ratings.csv')\n",
        "series2cat(df, 'userId', 'movieId')\n",
        "df.head()"
      ],
      "execution_count": 20,
      "outputs": [
        {
          "output_type": "execute_result",
          "data": {
            "text/html": [
              "<div>\n",
              "<style scoped>\n",
              "    .dataframe tbody tr th:only-of-type {\n",
              "        vertical-align: middle;\n",
              "    }\n",
              "\n",
              "    .dataframe tbody tr th {\n",
              "        vertical-align: top;\n",
              "    }\n",
              "\n",
              "    .dataframe thead th {\n",
              "        text-align: right;\n",
              "    }\n",
              "</style>\n",
              "<table border=\"1\" class=\"dataframe\">\n",
              "  <thead>\n",
              "    <tr style=\"text-align: right;\">\n",
              "      <th></th>\n",
              "      <th>userId</th>\n",
              "      <th>movieId</th>\n",
              "      <th>rating</th>\n",
              "      <th>timestamp</th>\n",
              "    </tr>\n",
              "  </thead>\n",
              "  <tbody>\n",
              "    <tr>\n",
              "      <th>0</th>\n",
              "      <td>73</td>\n",
              "      <td>1097</td>\n",
              "      <td>4.0</td>\n",
              "      <td>1255504951</td>\n",
              "    </tr>\n",
              "    <tr>\n",
              "      <th>1</th>\n",
              "      <td>561</td>\n",
              "      <td>924</td>\n",
              "      <td>3.5</td>\n",
              "      <td>1172695223</td>\n",
              "    </tr>\n",
              "    <tr>\n",
              "      <th>2</th>\n",
              "      <td>157</td>\n",
              "      <td>260</td>\n",
              "      <td>3.5</td>\n",
              "      <td>1291598691</td>\n",
              "    </tr>\n",
              "    <tr>\n",
              "      <th>3</th>\n",
              "      <td>358</td>\n",
              "      <td>1210</td>\n",
              "      <td>5.0</td>\n",
              "      <td>957481884</td>\n",
              "    </tr>\n",
              "    <tr>\n",
              "      <th>4</th>\n",
              "      <td>130</td>\n",
              "      <td>316</td>\n",
              "      <td>2.0</td>\n",
              "      <td>1138999234</td>\n",
              "    </tr>\n",
              "  </tbody>\n",
              "</table>\n",
              "</div>"
            ],
            "text/plain": [
              "  userId movieId  rating   timestamp\n",
              "0     73    1097     4.0  1255504951\n",
              "1    561     924     3.5  1172695223\n",
              "2    157     260     3.5  1291598691\n",
              "3    358    1210     5.0   957481884\n",
              "4    130     316     2.0  1138999234"
            ]
          },
          "metadata": {
            "tags": []
          },
          "execution_count": 20
        }
      ]
    },
    {
      "metadata": {
        "id": "p5NAjS1KBYLY",
        "colab_type": "code",
        "colab": {}
      },
      "cell_type": "code",
      "source": [
        "data = CollabDataBunch.from_df(df)\n",
        "learn = collab_learner(data, n_factors=50, y_range=[0, 5.5])  # We will see n_factors later"
      ],
      "execution_count": 0,
      "outputs": []
    },
    {
      "metadata": {
        "id": "MRqLn67vCRS7",
        "colab_type": "code",
        "outputId": "9b6b48c2-1ec2-40f0-91cd-3ba073885b65",
        "colab": {
          "base_uri": "https://localhost:8080/",
          "height": 287
        }
      },
      "cell_type": "code",
      "source": [
        "learn.fit_one_cycle(10, 1e-3)"
      ],
      "execution_count": 22,
      "outputs": [
        {
          "output_type": "display_data",
          "data": {
            "text/html": [
              "Total time: 00:12 <p><table style='width:300px; margin-bottom:10px'>\n",
              "  <tr>\n",
              "    <th>epoch</th>\n",
              "    <th>train_loss</th>\n",
              "    <th>valid_loss</th>\n",
              "  </tr>\n",
              "  <tr>\n",
              "    <th>1</th>\n",
              "    <th>2.009654</th>\n",
              "    <th>1.979538</th>\n",
              "  </tr>\n",
              "  <tr>\n",
              "    <th>2</th>\n",
              "    <th>1.968699</th>\n",
              "    <th>1.856500</th>\n",
              "  </tr>\n",
              "  <tr>\n",
              "    <th>3</th>\n",
              "    <th>1.710164</th>\n",
              "    <th>1.360017</th>\n",
              "  </tr>\n",
              "  <tr>\n",
              "    <th>4</th>\n",
              "    <th>1.159017</th>\n",
              "    <th>0.822418</th>\n",
              "  </tr>\n",
              "  <tr>\n",
              "    <th>5</th>\n",
              "    <th>0.817045</th>\n",
              "    <th>0.701169</th>\n",
              "  </tr>\n",
              "  <tr>\n",
              "    <th>6</th>\n",
              "    <th>0.698311</th>\n",
              "    <th>0.676826</th>\n",
              "  </tr>\n",
              "  <tr>\n",
              "    <th>7</th>\n",
              "    <th>0.657248</th>\n",
              "    <th>0.667983</th>\n",
              "  </tr>\n",
              "  <tr>\n",
              "    <th>8</th>\n",
              "    <th>0.628036</th>\n",
              "    <th>0.665257</th>\n",
              "  </tr>\n",
              "  <tr>\n",
              "    <th>9</th>\n",
              "    <th>0.629572</th>\n",
              "    <th>0.664528</th>\n",
              "  </tr>\n",
              "  <tr>\n",
              "    <th>10</th>\n",
              "    <th>0.617122</th>\n",
              "    <th>0.664293</th>\n",
              "  </tr>\n",
              "</table>\n"
            ],
            "text/plain": [
              "<IPython.core.display.HTML object>"
            ]
          },
          "metadata": {
            "tags": []
          }
        }
      ]
    },
    {
      "metadata": {
        "id": "ALOiYwiTC2xY",
        "colab_type": "text"
      },
      "cell_type": "markdown",
      "source": [
        "So what `collab_learner` really did here can be traced as follows (for reference, [this commit](https://github.com/fastai/fastai/commit/926548cd2460cd79b86ad225cc795e8496f71d2a) was used for the code below).\n",
        "* [The code for `collab_learner`](https://github.com/fastai/fastai/blob/master/fastai/collab.py#L98) shows that in our case, it created an `EmbeddingDotBias` class\n",
        "* [The code for the `EmbeddingDotBias` class](https://github.com/fastai/fastai/blob/master/fastai/collab.py#L37) shows that it calls an `embedding` function.\n",
        "* [The code for the `embedding` function](https://github.com/fastai/fastai/blob/master/fastai/layers.py#L285) simply creates a `torch.nn.Embedding` layer. It normalizes it, according to a suggestion from [this paper](https://arxiv.org/abs/1711.09160).\n",
        "* An embedding can be thought of as a matrix of weights, where you can look up an item (like a movie or a user), and grab a vector from (see the Excel sheet to get a visual understanding of this). So in the spreadsheet, we have an embedding matrix for users, and one for movies, and we've been taking the dot product so far. But the Excel sheet (so far) does only multiplication; we would additionally like to add a *bias* term for each value.\n",
        "* The `EmbeddingDotBias` class, in its `forward` method, simply multiplies the user and the item weights (`u_weight` and `i_weight`), and then adds the biases.\n",
        "* There is one additional tweak, though. These simple linear models tend to work well for collaborative filtering. We said that there's a min score of 0 and a max score of 5 in our code above. So we force our output to be in this range, by using a sigmoid activation, and scaling it to these limits (see [this line](https://github.com/fastai/fastai/blob/master/fastai/collab.py#L50)).\n",
        "\n",
        "All this above seems to give state-of-the-art results on MovieLens!"
      ]
    },
    {
      "metadata": {
        "id": "y6_kW4AlCoOw",
        "colab_type": "code",
        "colab": {}
      },
      "cell_type": "code",
      "source": [
        ""
      ],
      "execution_count": 0,
      "outputs": []
    }
  ]
}